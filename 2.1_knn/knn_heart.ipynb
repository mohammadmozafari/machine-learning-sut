{
 "cells": [
  {
   "cell_type": "code",
   "execution_count": 2,
   "metadata": {},
   "outputs": [
    {
     "name": "stdout",
     "output_type": "stream",
     "text": [
      "The autoreload extension is already loaded. To reload it, use:\n",
      "  %reload_ext autoreload\n"
     ]
    }
   ],
   "source": [
    "from knn import *\n",
    "from utils import *\n",
    "import matplotlib.pyplot as plt\n",
    "\n",
    "%load_ext autoreload\n",
    "%autoreload 2"
   ]
  },
  {
   "cell_type": "code",
   "execution_count": 3,
   "metadata": {},
   "outputs": [],
   "source": [
    "# prepare data\n",
    "def prepare_data():\n",
    "    X, Y = read_data('./data/heart.csv', 'target')\n",
    "    X, Y = shuffle(X, Y)\n",
    "    X_train, Y_train, X_val, Y_val = split_data(X, Y, 0.8)\n",
    "    X, Y = None, None\n",
    "    print('X train shape:', X_train.shape)\n",
    "    print('Y train shape:', Y_train.shape)\n",
    "    print('X val shape:', X_val.shape)\n",
    "    print('Y val shape:', Y_val.shape)\n",
    "    return X_train, Y_train, X_val, Y_val"
   ]
  },
  {
   "cell_type": "code",
   "execution_count": 27,
   "metadata": {},
   "outputs": [],
   "source": [
    "# fit knn and report\n",
    "# from sklearn.neighbors import KNeighborsClassifier\n",
    "\n",
    "def run_multiple_knn(X_train, Y_train, X_val, Y_val, Ks):\n",
    "    train_accuracies = []\n",
    "    val_accuracies = []\n",
    "    for k in Ks:\n",
    "        # knn_model = KNeighborsClassifier(n_neighbors=k)\n",
    "        knn_model = KNN(k)\n",
    "        knn_model.fit(X_train, Y_train)\n",
    "        train_preds = knn_model.predict(X_train)\n",
    "        val_preds = knn_model.predict(X_val)\n",
    "        train_accuracy, _, _, _, _ = report_classification(Y_train, train_preds)\n",
    "        val_accuracy, _, _, _, _ = report_classification(Y_val, val_preds)\n",
    "        train_accuracies.append(train_accuracy)\n",
    "        val_accuracies.append(val_accuracy)\n",
    "    return train_accuracies, val_accuracies\n"
   ]
  },
  {
   "cell_type": "code",
   "execution_count": 46,
   "metadata": {},
   "outputs": [
    {
     "name": "stdout",
     "output_type": "stream",
     "text": [
      "X train shape: (242, 13)\n",
      "Y train shape: (242,)\n",
      "X val shape: (61, 13)\n",
      "Y val shape: (61,)\n",
      "Best k = 7\n"
     ]
    },
    {
     "data": {
      "text/plain": [
       "[<matplotlib.lines.Line2D at 0x1b904559c88>]"
      ]
     },
     "execution_count": 46,
     "metadata": {},
     "output_type": "execute_result"
    },
    {
     "data": {
      "image/png": "[encoded data removed]",
      "text/plain": [
       "<Figure size 432x288 with 1 Axes>"
      ]
     },
     "metadata": {
      "needs_background": "light"
     },
     "output_type": "display_data"
    }
   ],
   "source": [
    "X_train, Y_train, X_val, Y_val = prepare_data()\n",
    "Ks = [(i+1) for i in range(0, 15)]\n",
    "train_accuracies, val_accuracies = run_multiple_knn(X_train, Y_train, X_val, Y_val, Ks)\n",
    "best_k = np.argmax(np.array(val_accuracies)) + 1\n",
    "print('Best k =', best_k)\n",
    "plt.plot(Ks, train_accuracies)\n",
    "plt.plot(Ks, val_accuracies)"
   ]
  },
  {
   "cell_type": "code",
   "execution_count": null,
   "metadata": {},
   "outputs": [],
   "source": []
  }
 ],
 "metadata": {
  "interpreter": {
   "hash": "818dd9f29eb8b9f4176cac8618347dba68cc82d46fab8fe0c5b8851c320da5b0"
  },
  "kernelspec": {
   "display_name": "Python 3.7.10 64-bit ('cs231n': conda)",
   "name": "python3"
  },
  "language_info": {
   "codemirror_mode": {
    "name": "ipython",
    "version": 3
   },
   "file_extension": ".py",
   "mimetype": "text/x-python",
   "name": "python",
   "nbconvert_exporter": "python",
   "pygments_lexer": "ipython3",
   "version": "3.7.10-final"
  },
  "orig_nbformat": 4
 },
 "nbformat": 4,
 "nbformat_minor": 2
}
