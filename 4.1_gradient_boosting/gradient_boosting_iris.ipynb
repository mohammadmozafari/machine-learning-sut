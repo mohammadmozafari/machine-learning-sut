{
 "cells": [
  {
   "cell_type": "code",
   "execution_count": 47,
   "metadata": {},
   "outputs": [],
   "source": [
    "import numpy as np\n",
    "from sklearn import datasets\n",
    "from sklearn.preprocessing import OneHotEncoder\n",
    "from sklearn.model_selection import train_test_split\n",
    "from sklearn.tree import DecisionTreeClassifier, DecisionTreeRegressor\n",
    "from sklearn.metrics import precision_recall_fscore_support, confusion_matrix\n"
   ]
  },
  {
   "cell_type": "code",
   "execution_count": 4,
   "metadata": {},
   "outputs": [],
   "source": [
    "iris_data = datasets.load_iris()\n",
    "x = iris_data['data']\n",
    "y = iris_data['target']"
   ]
  },
  {
   "cell_type": "code",
   "execution_count": 5,
   "metadata": {},
   "outputs": [
    {
     "name": "stdout",
     "output_type": "stream",
     "text": [
      "x train shape: (127, 4)\n",
      "y train shape: (127,)\n",
      "x test shape: (23, 4)\n",
      "y test shape: (23,)\n"
     ]
    }
   ],
   "source": [
    "x_train, x_test, y_train, y_test = train_test_split(x, y, test_size=0.15, shuffle=True)\n",
    "print('x train shape:', x_train.shape)\n",
    "print('y train shape:', y_train.shape)\n",
    "print('x test shape:', x_test.shape)\n",
    "print('y test shape:', y_test.shape)\n"
   ]
  },
  {
   "cell_type": "code",
   "execution_count": 23,
   "metadata": {},
   "outputs": [],
   "source": [
    "def loss(y, p):\n",
    "    p = np.clip(p, 1e-15, 1 - 1e-15)\n",
    "    return - y * np.log(p) - (1 - y) * np.log(1 - p)\n",
    "\n",
    "def loss_grad(y, p):\n",
    "    p = np.clip(p, 1e-15, 1 - 1e-15)\n",
    "    return - (y / p) + (1 - y) / (1 - p)\n"
   ]
  },
  {
   "cell_type": "code",
   "execution_count": 24,
   "metadata": {},
   "outputs": [],
   "source": [
    "class GradientBoostingClassifier():\n",
    "\n",
    "    def __init__(self, n, lr):\n",
    "        self.trees = []\n",
    "        self.n = n\n",
    "        self.lr = lr\n",
    "        for _ in range(n):\n",
    "            tree = DecisionTreeRegressor(max_depth=1)\n",
    "            self.trees.append(tree)\n",
    "\n",
    "    def fit(self, X, y):\n",
    "        y_pred = np.full(np.shape(y), np.mean(y, axis=0))\n",
    "        for i in range(self.n):\n",
    "            gradient = loss_grad(y, y_pred)\n",
    "            self.trees[i].fit(X, gradient)\n",
    "            update = self.trees[i].predict(X)\n",
    "            y_pred -= self.lr * update\n",
    "\n",
    "    def predict(self, X):\n",
    "        y_pred = np.array([])\n",
    "        for tree in self.trees:\n",
    "            update = tree.predict(X)\n",
    "            update = self.lr * update\n",
    "            y_pred = -update if not y_pred.any() else y_pred - update\n",
    "        y_pred = np.exp(y_pred) / np.expand_dims(np.sum(np.exp(y_pred), axis=1), axis=1)\n",
    "        y_pred = np.argmax(y_pred, axis=1)\n",
    "        return y_pred\n",
    "\n"
   ]
  },
  {
   "cell_type": "code",
   "execution_count": 49,
   "metadata": {},
   "outputs": [
    {
     "name": "stdout",
     "output_type": "stream",
     "text": [
      "Precision:\n",
      "\tClass 0: 1.0\n",
      "\tClass 1: 1.0\n",
      "\tClass 2: 0.8888888888888888\n",
      "Recall:\n",
      "\tClass 0: 1.0\n",
      "\tClass 1: 0.8571428571428571\n",
      "\tClass 2: 1.0\n",
      "F:\n",
      "\tClass 0: 1.0\n",
      "\tClass 1: 0.923076923076923\n",
      "\tClass 2: 0.9411764705882353\n",
      "\n",
      "Confusion Matrix:\n",
      "[[8 0 0]\n",
      " [0 6 1]\n",
      " [0 0 8]]\n"
     ]
    }
   ],
   "source": [
    "gbc = GradientBoostingClassifier(4, lr=1)\n",
    "\n",
    "one_hot_y = np.zeros((y_train.shape[0], len(np.unique(y_train))))\n",
    "for i in range(one_hot_y.shape[0]):\n",
    "    one_hot_y[i][y_train[i]] = 1\n",
    "\n",
    "gbc.fit(x_train, one_hot_y)\n",
    "pred = gbc.predict(x_test)\n",
    "\n",
    "results = precision_recall_fscore_support(y_test, pred)\n",
    "metrics = ['Precision', 'Recall', 'F']\n",
    "for idx, metric in enumerate(metrics):\n",
    "    print('{}:'.format(metric))\n",
    "    print('\\tClass 0: {}'.format(results[idx][0]))\n",
    "    print('\\tClass 1: {}'.format(results[idx][1]))\n",
    "    print('\\tClass 2: {}'.format(results[idx][2]))\n",
    "\n",
    "cm = confusion_matrix(y_test, pred)\n",
    "print('\\nConfusion Matrix:')\n",
    "print(cm)\n"
   ]
  },
  {
   "cell_type": "code",
   "execution_count": null,
   "metadata": {},
   "outputs": [],
   "source": []
  }
 ],
 "metadata": {
  "interpreter": {
   "hash": "818dd9f29eb8b9f4176cac8618347dba68cc82d46fab8fe0c5b8851c320da5b0"
  },
  "kernelspec": {
   "display_name": "Python 3.7.10 64-bit ('cs231n': conda)",
   "language": "python",
   "name": "python3"
  },
  "language_info": {
   "codemirror_mode": {
    "name": "ipython",
    "version": 3
   },
   "file_extension": ".py",
   "mimetype": "text/x-python",
   "name": "python",
   "nbconvert_exporter": "python",
   "pygments_lexer": "ipython3",
   "version": "3.7.10"
  },
  "orig_nbformat": 4
 },
 "nbformat": 4,
 "nbformat_minor": 2
}
