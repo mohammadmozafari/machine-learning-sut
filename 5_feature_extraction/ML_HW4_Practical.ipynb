{
  "cells": [
    {
      "cell_type": "markdown",
      "metadata": {
        "id": "E54BrfHvj5yV"
      },
      "source": [
        "<div align=center>\n",
        "\t\t\n",
        "<p></p>\n",
        "<p></p>\n",
        "<font size=5>\n",
        "In the Name of God\n",
        "<font/>\n",
        "<p></p>\n",
        " <br/>\n",
        "    <br/>\n",
        "    <br/>\n",
        "<font color=#FF7500>\n",
        "Sharif University of Technology - Departmenet of Computer Engineering\n",
        "</font>\n",
        "<p></p>\n",
        "<font color=blue>\n",
        "Machine Learning - Dr. Hamid Beigy\n",
        "</font>\n",
        "<br/>\n",
        "<br/>\n",
        "Fall 2021\n",
        "\n",
        "</div>\n",
        "\n",
        "<hr/>\n",
        "\t\t<div align=center>\n",
        "\t\t    <font color=red size=6>\n",
        "\t\t\t    <br />\n",
        "Practical Assignment \n",
        "            \t<br/>\n",
        "\t\t\t</font>\n",
        "</br>"
      ]
    },
    {
      "cell_type": "markdown",
      "metadata": {
        "id": "UcX5m2hakwg_"
      },
      "source": [
        "Complete the Todo parts and just run the other cells. Do not add any additional cell to the notebook. "
      ]
    },
    {
      "cell_type": "markdown",
      "metadata": {
        "id": "3M84mmCiHwHt"
      },
      "source": [
        "# Feature Extraction with Different Methods"
      ]
    },
    {
      "cell_type": "code",
      "execution_count": 208,
      "metadata": {
        "id": "LeTamZA0HjNL"
      },
      "outputs": [],
      "source": [
        "# Import libraries\n",
        "import pandas as pd # To handle the data set.\n",
        "import seaborn as sb # To display visualizations.\n",
        "import matplotlib.pyplot as plt # To plot\n",
        "import numpy as np\n",
        "\n",
        "from sklearn.model_selection import train_test_split # To split data\n",
        "from sklearn.ensemble import RandomForestClassifier # Random Forest\n",
        "from sklearn.metrics import confusion_matrix # To calculate the confusion matrix\n",
        "from sklearn.metrics import accuracy_score # To calculate the score\n",
        "from sklearn.feature_selection import SelectKBest # Univariate Feature Selection\n",
        "from sklearn.feature_selection import chi2 # To apply Univariate Feature Selection\n",
        "from sklearn.feature_selection import RFE # Recursive Feature Selection\n",
        "from sklearn.feature_selection import RFECV # Recursive Feature Selection with Cross Validation\n",
        "from sklearn.decomposition import PCA # To apply PCA\n",
        "from sklearn import preprocessing # To get MinMax Scaler function\n",
        "\n",
        "# To plot inline\n",
        "%matplotlib inline"
      ]
    },
    {
      "cell_type": "markdown",
      "metadata": {
        "id": "THteAi4lH-7P"
      },
      "source": [
        "## Loading and Preparing DataSet"
      ]
    },
    {
      "cell_type": "code",
      "execution_count": 209,
      "metadata": {
        "id": "jePTlir3H2aH"
      },
      "outputs": [],
      "source": [
        "# Loading file and dropping some columns \n",
        "australia = pd.read_csv('weatherAUS.csv') \n",
        "australia = australia.drop(['Location','Date','Evaporation','Sunshine', 'Cloud9am','Cloud3pm',\n",
        "                           'WindGustDir','WindGustSpeed','WindDir9am','WindDir3pm','WindSpeed9am',\n",
        "                           'WindSpeed3pm'], axis=1)"
      ]
    },
    {
      "cell_type": "code",
      "execution_count": 210,
      "metadata": {
        "id": "fq8Td1xBODaN"
      },
      "outputs": [],
      "source": [
        "# Splitting between X and Y vector wich means the corpus and target vector respectively\n",
        "Y = australia.RainTomorrow\n",
        "X = australia.drop(['RainTomorrow'], axis=1)"
      ]
    },
    {
      "cell_type": "code",
      "execution_count": 211,
      "metadata": {
        "id": "U4TzRYZWPwn_"
      },
      "outputs": [],
      "source": [
        "''' Todo: Switch 'Yes' and 'No' with a boolen value and handle NaN values by replacing it with a zero '''\n",
        "\n",
        "Y = Y.replace({'Yes': 1, 'No': 0})\n",
        "X = X.replace({'Yes': 1, 'No': 0})\n",
        "\n",
        "Y = Y.fillna(0).astype('int')\n",
        "X = X.fillna(0)"
      ]
    },
    {
      "cell_type": "markdown",
      "metadata": {
        "id": "K798SIJkQYER"
      },
      "source": [
        "## Scaling Data"
      ]
    },
    {
      "cell_type": "markdown",
      "metadata": {
        "id": "Z_oMjeMAmwPM"
      },
      "source": [
        "Working with values in a wide range is not convenient, we need to scale it. In this case we are going to normalize it and scaling it in a 0-1 range."
      ]
    },
    {
      "cell_type": "code",
      "execution_count": 212,
      "metadata": {
        "id": "lu9f_9-MQDAi"
      },
      "outputs": [
        {
          "data": {
            "text/html": [
              "<div>\n",
              "<style scoped>\n",
              "    .dataframe tbody tr th:only-of-type {\n",
              "        vertical-align: middle;\n",
              "    }\n",
              "\n",
              "    .dataframe tbody tr th {\n",
              "        vertical-align: top;\n",
              "    }\n",
              "\n",
              "    .dataframe thead th {\n",
              "        text-align: right;\n",
              "    }\n",
              "</style>\n",
              "<table border=\"1\" class=\"dataframe\">\n",
              "  <thead>\n",
              "    <tr style=\"text-align: right;\">\n",
              "      <th></th>\n",
              "      <th>MinTemp</th>\n",
              "      <th>MaxTemp</th>\n",
              "      <th>Rainfall</th>\n",
              "      <th>Humidity9am</th>\n",
              "      <th>Humidity3pm</th>\n",
              "      <th>Pressure9am</th>\n",
              "      <th>Pressure3pm</th>\n",
              "      <th>Temp9am</th>\n",
              "      <th>Temp3pm</th>\n",
              "      <th>RainToday</th>\n",
              "      <th>RISK_MM</th>\n",
              "    </tr>\n",
              "  </thead>\n",
              "  <tbody>\n",
              "    <tr>\n",
              "      <th>0</th>\n",
              "      <td>0.348718</td>\n",
              "      <td>0.339844</td>\n",
              "      <td>0.000000</td>\n",
              "      <td>0.65</td>\n",
              "      <td>0.47</td>\n",
              "      <td>0.982805</td>\n",
              "      <td>0.983263</td>\n",
              "      <td>0.344037</td>\n",
              "      <td>0.359375</td>\n",
              "      <td>0.0</td>\n",
              "      <td>0.000000</td>\n",
              "    </tr>\n",
              "    <tr>\n",
              "      <th>1</th>\n",
              "      <td>0.246154</td>\n",
              "      <td>0.343750</td>\n",
              "      <td>0.001078</td>\n",
              "      <td>0.99</td>\n",
              "      <td>0.46</td>\n",
              "      <td>0.962056</td>\n",
              "      <td>0.964217</td>\n",
              "      <td>0.165138</td>\n",
              "      <td>0.367188</td>\n",
              "      <td>0.0</td>\n",
              "      <td>0.000000</td>\n",
              "    </tr>\n",
              "    <tr>\n",
              "      <th>2</th>\n",
              "      <td>0.723077</td>\n",
              "      <td>0.572266</td>\n",
              "      <td>0.000000</td>\n",
              "      <td>0.48</td>\n",
              "      <td>0.50</td>\n",
              "      <td>0.980692</td>\n",
              "      <td>0.982974</td>\n",
              "      <td>0.655963</td>\n",
              "      <td>0.576172</td>\n",
              "      <td>0.0</td>\n",
              "      <td>0.000544</td>\n",
              "    </tr>\n",
              "    <tr>\n",
              "      <th>3</th>\n",
              "      <td>0.643590</td>\n",
              "      <td>0.607422</td>\n",
              "      <td>0.000000</td>\n",
              "      <td>0.50</td>\n",
              "      <td>0.41</td>\n",
              "      <td>0.978194</td>\n",
              "      <td>0.976241</td>\n",
              "      <td>0.594037</td>\n",
              "      <td>0.609375</td>\n",
              "      <td>0.0</td>\n",
              "      <td>0.000000</td>\n",
              "    </tr>\n",
              "    <tr>\n",
              "      <th>4</th>\n",
              "      <td>0.592308</td>\n",
              "      <td>0.554688</td>\n",
              "      <td>0.000000</td>\n",
              "      <td>0.64</td>\n",
              "      <td>0.67</td>\n",
              "      <td>0.980115</td>\n",
              "      <td>0.976337</td>\n",
              "      <td>0.644495</td>\n",
              "      <td>0.541016</td>\n",
              "      <td>0.0</td>\n",
              "      <td>0.001088</td>\n",
              "    </tr>\n",
              "    <tr>\n",
              "      <th>...</th>\n",
              "      <td>...</td>\n",
              "      <td>...</td>\n",
              "      <td>...</td>\n",
              "      <td>...</td>\n",
              "      <td>...</td>\n",
              "      <td>...</td>\n",
              "      <td>...</td>\n",
              "      <td>...</td>\n",
              "      <td>...</td>\n",
              "      <td>...</td>\n",
              "      <td>...</td>\n",
              "    </tr>\n",
              "    <tr>\n",
              "      <th>36876</th>\n",
              "      <td>0.476923</td>\n",
              "      <td>0.337891</td>\n",
              "      <td>0.019946</td>\n",
              "      <td>0.84</td>\n",
              "      <td>0.81</td>\n",
              "      <td>0.976177</td>\n",
              "      <td>0.975856</td>\n",
              "      <td>0.373853</td>\n",
              "      <td>0.371094</td>\n",
              "      <td>1.0</td>\n",
              "      <td>0.024483</td>\n",
              "    </tr>\n",
              "    <tr>\n",
              "      <th>36877</th>\n",
              "      <td>0.379487</td>\n",
              "      <td>0.568359</td>\n",
              "      <td>0.000000</td>\n",
              "      <td>0.38</td>\n",
              "      <td>0.45</td>\n",
              "      <td>0.983862</td>\n",
              "      <td>0.982589</td>\n",
              "      <td>0.557339</td>\n",
              "      <td>0.558594</td>\n",
              "      <td>0.0</td>\n",
              "      <td>0.000000</td>\n",
              "    </tr>\n",
              "    <tr>\n",
              "      <th>36878</th>\n",
              "      <td>0.743590</td>\n",
              "      <td>0.679688</td>\n",
              "      <td>0.000000</td>\n",
              "      <td>0.54</td>\n",
              "      <td>0.39</td>\n",
              "      <td>0.972719</td>\n",
              "      <td>0.970566</td>\n",
              "      <td>0.724771</td>\n",
              "      <td>0.695312</td>\n",
              "      <td>0.0</td>\n",
              "      <td>0.000000</td>\n",
              "    </tr>\n",
              "    <tr>\n",
              "      <th>36879</th>\n",
              "      <td>0.379487</td>\n",
              "      <td>0.515625</td>\n",
              "      <td>0.000000</td>\n",
              "      <td>0.50</td>\n",
              "      <td>0.41</td>\n",
              "      <td>0.983573</td>\n",
              "      <td>0.981050</td>\n",
              "      <td>0.511468</td>\n",
              "      <td>0.507812</td>\n",
              "      <td>0.0</td>\n",
              "      <td>0.000000</td>\n",
              "    </tr>\n",
              "    <tr>\n",
              "      <th>36880</th>\n",
              "      <td>0.458974</td>\n",
              "      <td>0.574219</td>\n",
              "      <td>0.000000</td>\n",
              "      <td>0.50</td>\n",
              "      <td>0.28</td>\n",
              "      <td>0.977426</td>\n",
              "      <td>0.976048</td>\n",
              "      <td>0.518349</td>\n",
              "      <td>0.593750</td>\n",
              "      <td>0.0</td>\n",
              "      <td>0.000000</td>\n",
              "    </tr>\n",
              "  </tbody>\n",
              "</table>\n",
              "<p>36881 rows × 11 columns</p>\n",
              "</div>"
            ],
            "text/plain": [
              "        MinTemp   MaxTemp  Rainfall  Humidity9am  Humidity3pm  Pressure9am  \\\n",
              "0      0.348718  0.339844  0.000000         0.65         0.47     0.982805   \n",
              "1      0.246154  0.343750  0.001078         0.99         0.46     0.962056   \n",
              "2      0.723077  0.572266  0.000000         0.48         0.50     0.980692   \n",
              "3      0.643590  0.607422  0.000000         0.50         0.41     0.978194   \n",
              "4      0.592308  0.554688  0.000000         0.64         0.67     0.980115   \n",
              "...         ...       ...       ...          ...          ...          ...   \n",
              "36876  0.476923  0.337891  0.019946         0.84         0.81     0.976177   \n",
              "36877  0.379487  0.568359  0.000000         0.38         0.45     0.983862   \n",
              "36878  0.743590  0.679688  0.000000         0.54         0.39     0.972719   \n",
              "36879  0.379487  0.515625  0.000000         0.50         0.41     0.983573   \n",
              "36880  0.458974  0.574219  0.000000         0.50         0.28     0.977426   \n",
              "\n",
              "       Pressure3pm   Temp9am   Temp3pm  RainToday   RISK_MM  \n",
              "0         0.983263  0.344037  0.359375        0.0  0.000000  \n",
              "1         0.964217  0.165138  0.367188        0.0  0.000000  \n",
              "2         0.982974  0.655963  0.576172        0.0  0.000544  \n",
              "3         0.976241  0.594037  0.609375        0.0  0.000000  \n",
              "4         0.976337  0.644495  0.541016        0.0  0.001088  \n",
              "...            ...       ...       ...        ...       ...  \n",
              "36876     0.975856  0.373853  0.371094        1.0  0.024483  \n",
              "36877     0.982589  0.557339  0.558594        0.0  0.000000  \n",
              "36878     0.970566  0.724771  0.695312        0.0  0.000000  \n",
              "36879     0.981050  0.511468  0.507812        0.0  0.000000  \n",
              "36880     0.976048  0.518349  0.593750        0.0  0.000000  \n",
              "\n",
              "[36881 rows x 11 columns]"
            ]
          },
          "execution_count": 212,
          "metadata": {},
          "output_type": "execute_result"
        }
      ],
      "source": [
        "''' Todo: Scaling dataset keeping the columns name (Hint: use MinMaxScaler function).\n",
        "    Name the scaled datafarame to X_scaled'''\n",
        "\n",
        "scaler = preprocessing.MinMaxScaler()\n",
        "X_scaled = pd.DataFrame(scaler.fit_transform(X), columns=X.columns, index=X.index)\n",
        "\n",
        "X_scaled"
      ]
    },
    {
      "cell_type": "markdown",
      "metadata": {
        "id": "etc3LKG4QrQn"
      },
      "source": [
        "## Splitting up Data"
      ]
    },
    {
      "cell_type": "code",
      "execution_count": 213,
      "metadata": {
        "id": "65msFcKTQdvt"
      },
      "outputs": [],
      "source": [
        "# Splitting  up data, seting 75% for train and 25% for test. (you can change this setup)\n",
        "x_train, x_test, y_train, y_test = train_test_split(X_scaled, Y, test_size=0.25, random_state=43)"
      ]
    },
    {
      "cell_type": "markdown",
      "metadata": {
        "id": "vlek318yQyS-"
      },
      "source": [
        "# 1) Univariate Feature Selection"
      ]
    },
    {
      "cell_type": "markdown",
      "metadata": {
        "id": "Ht2zHzTXnDoj"
      },
      "source": [
        "This method works by selection the K best features according to a score. The K number of features is setting explicity."
      ]
    },
    {
      "cell_type": "code",
      "execution_count": 248,
      "metadata": {
        "id": "f7EZEcDVQuoj"
      },
      "outputs": [
        {
          "data": {
            "image/png": "[encoded data removed]",
            "text/plain": [
              "<Figure size 800x500 with 1 Axes>"
            ]
          },
          "metadata": {},
          "output_type": "display_data"
        }
      ],
      "source": [
        "''' Todo: Initialize SelectKBest function and create a dict to \n",
        "    visualize which features were selected with the highest score'''\n",
        "\n",
        "plt.style.use(['dark_background'])\n",
        "plt.rc('axes', facecolor='k')\n",
        "plt.rc('figure', facecolor='k')\n",
        "\n",
        "K = 5\n",
        "UnivariateFeatureSelection = SelectKBest(chi2, k=K).fit(x_train, y_train)\n",
        "scores = UnivariateFeatureSelection.scores_\n",
        "dict_scores = {column:scores[i] for i, column in enumerate(x_train.columns)}\n",
        "\n",
        "plt.rc('figure', figsize=(8, 5), dpi=100)\n",
        "plt.rc('axes', edgecolor='black')\n",
        "x_axis = np.arange(len(dict_scores))\n",
        "scores = list(dict_scores.values())\n",
        "plt.bar(x_axis, scores, color='blue')\n",
        "plt.xticks(x_axis, dict_scores.keys(), rotation=90)\n",
        "plt.rc('axes', edgecolor='white')\n",
        "plt.title('Feature Scores')\n",
        "plt.show()\n"
      ]
    },
    {
      "cell_type": "code",
      "execution_count": 249,
      "metadata": {
        "id": "-_1W4b0Knrjl"
      },
      "outputs": [
        {
          "data": {
            "text/plain": [
              "['RainToday', 'RISK_MM', 'Humidity3pm', 'Rainfall', 'Humidity9am']"
            ]
          },
          "execution_count": 249,
          "metadata": {},
          "output_type": "execute_result"
        }
      ],
      "source": [
        "''' Todo: Print the top 5 best features '''\n",
        "\n",
        "top_k_features = sorted(dict_scores, key=lambda x: dict_scores[x])[::-1][:K]\n",
        "top_k_features\n"
      ]
    },
    {
      "cell_type": "markdown",
      "metadata": {
        "id": "RM2Aj9jURmfS"
      },
      "source": [
        "## Extracting the best K values"
      ]
    },
    {
      "cell_type": "markdown",
      "metadata": {
        "id": "e0HzDZtJn1_3"
      },
      "source": [
        "Now that we have the best features, let's extract them from the original data set and let's measure the performance with the random forest algorithm."
      ]
    },
    {
      "cell_type": "code",
      "execution_count": 250,
      "metadata": {
        "id": "RVbzHnwORWwV"
      },
      "outputs": [],
      "source": [
        "# Using the 'UnivariateFeatureSelection' based on 'SelectKBest' function,\n",
        "# let's extract the best features from the original dataset\n",
        "\n",
        "x_train_k_best = UnivariateFeatureSelection.transform(x_train)\n",
        "x_test_k_best = UnivariateFeatureSelection.transform(x_test)"
      ]
    },
    {
      "cell_type": "code",
      "execution_count": 251,
      "metadata": {
        "id": "3AQUU5xRRpYS"
      },
      "outputs": [
        {
          "name": "stdout",
          "output_type": "stream",
          "text": [
            "Shape of original data:  (27660, 11)\n",
            "Shape of corpus with best features:  (27660, 5)\n"
          ]
        }
      ],
      "source": [
        "print(\"Shape of original data: \", x_train.shape)\n",
        "print(\"Shape of corpus with best features: \", x_train_k_best.shape)"
      ]
    },
    {
      "cell_type": "markdown",
      "metadata": {
        "id": "Mw_YNWpcSdi7"
      },
      "source": [
        "## Testing with Random Forest Algorithm"
      ]
    },
    {
      "cell_type": "code",
      "execution_count": 252,
      "metadata": {
        "id": "n8Y02AshRrQ0"
      },
      "outputs": [
        {
          "data": {
            "text/plain": [
              "RandomForestClassifier(n_estimators=10)"
            ]
          },
          "execution_count": 252,
          "metadata": {},
          "output_type": "execute_result"
        }
      ],
      "source": [
        "''' Todo: Initialize and fit data to the random forest classifier'''\n",
        "\n",
        "tree_num = 10\n",
        "rfc = RandomForestClassifier(n_estimators=tree_num)\n",
        "rfc.fit(x_train_k_best, y_train)"
      ]
    },
    {
      "cell_type": "code",
      "execution_count": 253,
      "metadata": {
        "id": "p4rigsivSgad"
      },
      "outputs": [
        {
          "name": "stdout",
          "output_type": "stream",
          "text": [
            "Accuracy on test data: 1.0\n"
          ]
        }
      ],
      "source": [
        "''' Todo: Make a prediction and calculting the accuracy'''\n",
        "\n",
        "y_pred = rfc.predict(x_test_k_best)\n",
        "acc = accuracy_score(y_test, y_pred)\n",
        "print('Accuracy on test data:', acc)"
      ]
    },
    {
      "cell_type": "code",
      "execution_count": 254,
      "metadata": {
        "id": "KPaZDjB3SkH7"
      },
      "outputs": [
        {
          "data": {
            "text/plain": [
              "Text(0.5, 1.0, 'Confusion Matrix')"
            ]
          },
          "execution_count": 254,
          "metadata": {},
          "output_type": "execute_result"
        },
        {
          "data": {
            "image/png": "[encoded data removed]",
            "text/plain": [
              "<Figure size 500x500 with 2 Axes>"
            ]
          },
          "metadata": {},
          "output_type": "display_data"
        }
      ],
      "source": [
        "''' Todo: Show performance with a confusion matrix'''\n",
        "\n",
        "mat = confusion_matrix(y_test, y_pred)\n",
        "mat = mat/np.max(mat, axis=1)\n",
        "\n",
        "cmap = sb.color_palette(\"ch:start=.2,rot=-.3\", as_cmap=True)\n",
        "mat_plot = plt.matshow(mat, cmap='hot')\n",
        "plt.rc('figure', figsize=(8, 5), dpi=100)\n",
        "sb.heatmap(mat, annot=True, cmap=cmap, fmt='.2%')\n",
        "plt.xlabel('Predicted Label')\n",
        "plt.ylabel('True Label')\n",
        "plt.title('Confusion Matrix')\n"
      ]
    },
    {
      "cell_type": "markdown",
      "metadata": {
        "id": "3uTtkKGOSvwc"
      },
      "source": [
        "# 2) Recursive Feature Elimination"
      ]
    },
    {
      "cell_type": "code",
      "execution_count": 255,
      "metadata": {
        "id": "y32fa3IeSpBb"
      },
      "outputs": [],
      "source": [
        "# Initializing Random Forest Classifier\n",
        "RandForest_RFE = RandomForestClassifier() \n",
        "# Initializing the RFE object, one of the most important arguments is the estimator, in this case is RandomForest\n",
        "rfe = RFE(estimator=RandForest_RFE, n_features_to_select=5, step=1)\n",
        "# Fit the origial dataset\n",
        "rfe = rfe.fit(x_train, y_train)"
      ]
    },
    {
      "cell_type": "code",
      "execution_count": 256,
      "metadata": {
        "id": "GttKS3sXSywg"
      },
      "outputs": [
        {
          "name": "stdout",
          "output_type": "stream",
          "text": [
            "Best features chosen by RFE: \n",
            "\n",
            "Rainfall\n",
            "Humidity3pm\n",
            "Pressure9am\n",
            "RainToday\n",
            "RISK_MM\n"
          ]
        }
      ],
      "source": [
        "print(\"Best features chosen by RFE: \\n\")\n",
        "for i in x_train.columns[rfe.support_]:\n",
        "    print(i)"
      ]
    },
    {
      "cell_type": "markdown",
      "metadata": {
        "id": "N5t6dV_LTKf9"
      },
      "source": [
        "## Testing with Random Forest Algorithm"
      ]
    },
    {
      "cell_type": "code",
      "execution_count": 257,
      "metadata": {
        "id": "v_qExzFqS1_Y"
      },
      "outputs": [],
      "source": [
        "# Generating x_train and x_test based on the best features given by RFE\n",
        "x_train_RFE = rfe.transform(x_train)\n",
        "x_test_RFE = rfe.transform(x_test)"
      ]
    },
    {
      "cell_type": "code",
      "execution_count": 258,
      "metadata": {
        "id": "u2qhhBhwTQTD"
      },
      "outputs": [
        {
          "data": {
            "text/plain": [
              "RandomForestClassifier(n_estimators=10)"
            ]
          },
          "execution_count": 258,
          "metadata": {},
          "output_type": "execute_result"
        }
      ],
      "source": [
        "''' Todo: Fit the Random Forest'''\n",
        "\n",
        "tree_num = 10\n",
        "rfc = RandomForestClassifier(n_estimators=tree_num)\n",
        "rfc.fit(x_train_k_best, y_train)"
      ]
    },
    {
      "cell_type": "code",
      "execution_count": 259,
      "metadata": {
        "id": "H7Fv1uDeTVpk"
      },
      "outputs": [
        {
          "name": "stdout",
          "output_type": "stream",
          "text": [
            "Accuracy on test data: 1.0\n"
          ]
        }
      ],
      "source": [
        "''' Todo: Make a prediction and calculate the accuracy'''\n",
        "\n",
        "y_pred = rfc.predict(x_test_k_best)\n",
        "acc = accuracy_score(y_test, y_pred)\n",
        "print('Accuracy on test data:', acc)\n"
      ]
    },
    {
      "cell_type": "code",
      "execution_count": 260,
      "metadata": {
        "id": "15piM4iRTXiM"
      },
      "outputs": [
        {
          "data": {
            "text/plain": [
              "Text(0.5, 1.0, 'Confusion Matrix')"
            ]
          },
          "execution_count": 260,
          "metadata": {},
          "output_type": "execute_result"
        },
        {
          "data": {
            "image/png": "[encoded data removed]",
            "text/plain": [
              "<Figure size 500x500 with 2 Axes>"
            ]
          },
          "metadata": {},
          "output_type": "display_data"
        }
      ],
      "source": [
        "''' Todo: Show performance with a confusion matrix'''\n",
        "\n",
        "mat = confusion_matrix(y_test, y_pred)\n",
        "mat = mat/np.max(mat, axis=1)\n",
        "\n",
        "cmap = sb.color_palette(\"ch:start=.2,rot=-.3\", as_cmap=True)\n",
        "mat_plot = plt.matshow(mat, cmap='hot')\n",
        "plt.rc('figure', figsize=(8, 5), dpi=100)\n",
        "sb.heatmap(mat, annot=True, cmap=cmap, fmt='.2%')\n",
        "plt.xlabel('Predicted Label')\n",
        "plt.ylabel('True Label')\n",
        "plt.title('Confusion Matrix')\n"
      ]
    },
    {
      "cell_type": "markdown",
      "metadata": {
        "id": "fkzXdrDWUHVq"
      },
      "source": [
        "# 3) Recursive Feature Elimination with Cross-Validation"
      ]
    },
    {
      "cell_type": "markdown",
      "metadata": {
        "id": "wU4VCMg5w3t5"
      },
      "source": [
        "This method is an extention of Recursive Feature Elimination showed above. In this method we have to set the number of k-fold cross validation, basically takes the subset of the traing set and measure the performance recurively with respect to the number of features."
      ]
    },
    {
      "cell_type": "code",
      "execution_count": 261,
      "metadata": {
        "id": "E1sxaiGwTclM"
      },
      "outputs": [
        {
          "name": "stdout",
          "output_type": "stream",
          "text": [
            "Best features chosen by RFE: \n",
            "\n",
            "Rainfall\n",
            "Humidity9am\n",
            "Humidity3pm\n",
            "RainToday\n",
            "RISK_MM\n"
          ]
        }
      ],
      "source": [
        "# Initialize the Random Forest Classifier\n",
        "RandForest_RFECV = RandomForestClassifier() \n",
        "\n",
        "''' Todo: Initialize the RFECV function setting 3-fold cross validation'''\n",
        "rfecv = RFECV(estimator=RandForest_RFECV, cv=3, scoring='accuracy', min_features_to_select=5, step=1)\n",
        "\n",
        "''' Todo: Fit data'''\n",
        "rfecv.fit(x_train, y_train)\n",
        "\n",
        "''' Todo: print best features'''\n",
        "print(\"Best features chosen by RFE: \\n\")\n",
        "for i in x_train.columns[rfecv.support_]:\n",
        "    print(i)\n"
      ]
    },
    {
      "cell_type": "code",
      "execution_count": 262,
      "metadata": {
        "id": "c_N5ECKqUMOK"
      },
      "outputs": [
        {
          "data": {
            "text/plain": [
              "Text(0, 0.5, 'Score')"
            ]
          },
          "execution_count": 262,
          "metadata": {},
          "output_type": "execute_result"
        },
        {
          "data": {
            "image/png": "[encoded data removed]",
            "text/plain": [
              "<Figure size 800x500 with 1 Axes>"
            ]
          },
          "metadata": {},
          "output_type": "display_data"
        }
      ],
      "source": [
        "''' Todo: Plot the best features with respect to the Cross Validation Score'''\n",
        "\n",
        "mts = rfecv.cv_results_['mean_test_score']\n",
        "num_features = np.arange(5, len(mts) + 5)\n",
        "plt.plot(num_features, mts)\n",
        "plt.xlabel('Number of features')\n",
        "plt.ylabel('Score')"
      ]
    },
    {
      "cell_type": "markdown",
      "metadata": {
        "id": "FWDY2kISWoy2"
      },
      "source": [
        "# 4) Tree based Feature Selection"
      ]
    },
    {
      "cell_type": "markdown",
      "metadata": {
        "id": "OdOjrt0Nxdx8"
      },
      "source": [
        "This method is to compute the relevance of each feature in the dataset.\n"
      ]
    },
    {
      "cell_type": "code",
      "execution_count": 263,
      "metadata": {
        "id": "V1o_RjJBWKlJ"
      },
      "outputs": [],
      "source": [
        "# Initialize the Random Forest Classifier\n",
        "RandForest_Tree = RandomForestClassifier()  \n",
        "# Fit the random forest with the original data\n",
        "RandForest_Tree = RandForest_Tree.fit(x_train, y_train)\n",
        "# Getting the relevance between features\n",
        "relevants = RandForest_Tree.feature_importances_"
      ]
    },
    {
      "cell_type": "code",
      "execution_count": 264,
      "metadata": {
        "id": "umy0I2cdWrdy"
      },
      "outputs": [],
      "source": [
        "# Apply the tree based on importance for the random forest classifier and indexing it\n",
        "std = np.std([tree.feature_importances_ for tree in RandForest_Tree.estimators_], axis=0)\n",
        "indices = np.argsort(relevants)[::-1]"
      ]
    },
    {
      "cell_type": "code",
      "execution_count": 265,
      "metadata": {
        "id": "xe72zGz5Wtvf"
      },
      "outputs": [
        {
          "name": "stdout",
          "output_type": "stream",
          "text": [
            "Importance of features:\n",
            "Rank 1 - Feature RISK_MM -> 0.8289\n",
            "Rank 2 - Feature Humidity3pm -> 0.0831\n",
            "Rank 3 - Feature Rainfall -> 0.0283\n",
            "Rank 4 - Feature RainToday -> 0.0189\n",
            "Rank 5 - Feature Humidity9am -> 0.0093\n",
            "Rank 6 - Feature Pressure3pm -> 0.0089\n",
            "Rank 7 - Feature Pressure9am -> 0.0076\n",
            "Rank 8 - Feature Temp3pm -> 0.0049\n",
            "Rank 9 - Feature MinTemp -> 0.0038\n",
            "Rank 10 - Feature Temp9am -> 0.0033\n",
            "Rank 11 - Feature MaxTemp -> 0.0029\n"
          ]
        }
      ],
      "source": [
        "''' Todo: Print the ranking of importance of each feature'''\n",
        "\n",
        "print('Importance of features:')\n",
        "for i in range(len(indices)):\n",
        "    print('Rank {} - Feature {} -> {:.4f}'.format(i+1, x_train.columns[indices[i]], relevants[indices[i]]))\n"
      ]
    },
    {
      "cell_type": "code",
      "execution_count": 266,
      "metadata": {
        "id": "-l6_b48GWvu5"
      },
      "outputs": [
        {
          "data": {
            "image/png": "[encoded data removed]",
            "text/plain": [
              "<Figure size 800x500 with 1 Axes>"
            ]
          },
          "metadata": {},
          "output_type": "display_data"
        }
      ],
      "source": [
        "''' Todo: Plot the feature importances'''\n",
        "\n",
        "plt.rc('axes', edgecolor='black')\n",
        "x_axis = np.arange(len(indices))\n",
        "plt.bar(x_axis, relevants[indices], color='blue')\n",
        "plt.xticks(x_axis, x_train.columns[indices], rotation=90)\n",
        "plt.rc('axes', edgecolor='white')\n",
        "plt.title('Importance of features')\n",
        "plt.show()\n"
      ]
    },
    {
      "cell_type": "markdown",
      "metadata": {
        "id": "o4H5n_mOW1gi"
      },
      "source": [
        "# 5) Feature Extraction through PCA"
      ]
    },
    {
      "cell_type": "markdown",
      "metadata": {
        "id": "PCKIxUfXxrlM"
      },
      "source": [
        "In some cases it is convenient to apply dimensionality reduction to visualize the number of components or elements which could be the best for our model. In this case we apply PCA to discover which ones are the features to obtain a acceptable performance in the model."
      ]
    },
    {
      "cell_type": "code",
      "execution_count": 267,
      "metadata": {
        "id": "BQor4R8_Wy5n"
      },
      "outputs": [
        {
          "data": {
            "text/plain": [
              "PCA()"
            ]
          },
          "execution_count": 267,
          "metadata": {},
          "output_type": "execute_result"
        }
      ],
      "source": [
        "# Initializing PCA and fitting\n",
        "pca = PCA()\n",
        "pca.fit(x_train)"
      ]
    },
    {
      "cell_type": "code",
      "execution_count": 270,
      "metadata": {
        "id": "9IBf7kTwW4AW"
      },
      "outputs": [
        {
          "data": {
            "image/png": "[encoded data removed]",
            "text/plain": [
              "<Figure size 800x500 with 1 Axes>"
            ]
          },
          "metadata": {},
          "output_type": "display_data"
        }
      ],
      "source": [
        "''' Plot the Variance Ratio(y label) and Number of Features(x label)'''\n",
        "\n",
        "xaxis = np.arange(1, len(x_train.columns) + 1)\n",
        "yaxis = np.cumsum(pca.explained_variance_ratio_)\n",
        "plt.plot(xaxis, yaxis)\n",
        "plt.xlabel('Number of features')\n",
        "plt.ylabel('Variance Ratio')\n",
        "plt.show()"
      ]
    },
    {
      "cell_type": "code",
      "execution_count": null,
      "metadata": {
        "id": "V-6speh3W8qL"
      },
      "outputs": [],
      "source": []
    }
  ],
  "metadata": {
    "colab": {
      "collapsed_sections": [],
      "name": "ML_HW4_Practical.ipynb",
      "provenance": [],
      "toc_visible": true
    },
    "kernelspec": {
      "display_name": "Python 3",
      "name": "python3"
    },
    "language_info": {
      "codemirror_mode": {
        "name": "ipython",
        "version": 3
      },
      "file_extension": ".py",
      "mimetype": "text/x-python",
      "name": "python",
      "nbconvert_exporter": "python",
      "pygments_lexer": "ipython3",
      "version": "3.7.10"
    }
  },
  "nbformat": 4,
  "nbformat_minor": 0
}
